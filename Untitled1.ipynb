{
 "cells": [
  {
   "cell_type": "code",
   "execution_count": 1,
   "metadata": {},
   "outputs": [],
   "source": [
    "from image_generation import generate_single_example\n",
    "from utils import return_base_image_paths\n",
    "from pprint import pprint"
   ]
  },
  {
   "cell_type": "code",
   "execution_count": 2,
   "metadata": {},
   "outputs": [
    {
     "name": "stdout",
     "output_type": "stream",
     "text": [
      "Number of Base Word Directories: 76\n"
     ]
    }
   ],
   "source": [
    "img_files = return_base_image_paths()\n",
    "TEXT = [\"Name: \"]"
   ]
  },
  {
   "cell_type": "code",
   "execution_count": 8,
   "metadata": {},
   "outputs": [
    {
     "name": "stdout",
     "output_type": "stream",
     "text": [
      "{'annotations': [{'area': 6981,\n",
      "                  'bbox': (61, 108, 179, 39),\n",
      "                  'category_id': 2,\n",
      "                  'id': '38921f85-c26d-408e-a5d1-f5843a0f722b',\n",
      "                  'image_id': '15eee829-5ad6-43d8-9041-c10c9b806332',\n",
      "                  'iscrowd': 0},\n",
      "                 {'area': 12512,\n",
      "                  'bbox': (322, 64, 184, 68),\n",
      "                  'category_id': 3,\n",
      "                  'id': '3eb4c2f9-42b8-4e76-ba96-ac3250932ae8',\n",
      "                  'image_id': '15eee829-5ad6-43d8-9041-c10c9b806332',\n",
      "                  'iscrowd': 0},\n",
      "                 {'area': 1757,\n",
      "                  'bbox': (287, 146, 251, 7),\n",
      "                  'category_id': 1,\n",
      "                  'id': 'aba00c65-68b4-4efe-953e-53c4f11910c7',\n",
      "                  'image_id': '15eee829-5ad6-43d8-9041-c10c9b806332',\n",
      "                  'iscrowd': 0}],\n",
      " 'image': {'filename': '15eee829-5ad6-43d8-9041-c10c9b806332.png',\n",
      "           'height': 400,\n",
      "           'id': '15eee829-5ad6-43d8-9041-c10c9b806332',\n",
      "           'license': 1,\n",
      "           'width': 1000}}\n"
     ]
    },
    {
     "data": {
      "image/png": "[encoded data removed]",
      "text/plain": [
       "<Figure size 432x288 with 1 Axes>"
      ]
     },
     "metadata": {
      "needs_background": "light"
     },
     "output_type": "display_data"
    }
   ],
   "source": [
    "data = generate_single_example(\n",
    "    TEXT,\n",
    "    img_files,\n",
    "    \"write_test\",\n",
    "    print_img=True\n",
    ")\n",
    "\n",
    "pprint(data)"
   ]
  },
  {
   "cell_type": "code",
   "execution_count": 4,
   "metadata": {},
   "outputs": [],
   "source": [
    "import cv2"
   ]
  },
  {
   "cell_type": "code",
   "execution_count": 5,
   "metadata": {},
   "outputs": [],
   "source": [
    "img = cv2.imread(\"write_test/21dc16a7-1bad-49f7-bccc-d293a1277aa8.png\")"
   ]
  },
  {
   "cell_type": "code",
   "execution_count": 6,
   "metadata": {},
   "outputs": [],
   "source": [
    "import matplotlib.pyplot as plt"
   ]
  },
  {
   "cell_type": "code",
   "execution_count": 7,
   "metadata": {},
   "outputs": [
    {
     "data": {
      "text/plain": [
       "<matplotlib.image.AxesImage at 0x7f98b4045128>"
      ]
     },
     "execution_count": 7,
     "metadata": {},
     "output_type": "execute_result"
    },
    {
     "data": {
      "image/png": "[encoded data removed]",
      "text/plain": [
       "<Figure size 432x288 with 1 Axes>"
      ]
     },
     "metadata": {
      "needs_background": "light"
     },
     "output_type": "display_data"
    }
   ],
   "source": [
    "plt.imshow(img)"
   ]
  },
  {
   "cell_type": "code",
   "execution_count": null,
   "metadata": {},
   "outputs": [],
   "source": []
  }
 ],
 "metadata": {
  "kernelspec": {
   "display_name": "Python 3",
   "language": "python",
   "name": "python3"
  },
  "language_info": {
   "codemirror_mode": {
    "name": "ipython",
    "version": 3
   },
   "file_extension": ".py",
   "mimetype": "text/x-python",
   "name": "python",
   "nbconvert_exporter": "python",
   "pygments_lexer": "ipython3",
   "version": "3.7.3"
  }
 },
 "nbformat": 4,
 "nbformat_minor": 4
}
