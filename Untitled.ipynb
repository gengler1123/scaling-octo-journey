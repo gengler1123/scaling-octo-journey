{
 "cells": [
  {
   "cell_type": "code",
   "execution_count": 17,
   "metadata": {},
   "outputs": [],
   "source": [
    "from os import listdir\n",
    "from os.path import isfile, isdir, join\n",
    "import cv2\n",
    "import matplotlib.pyplot as plt\n",
    "import numpy as np"
   ]
  },
  {
   "cell_type": "code",
   "execution_count": 8,
   "metadata": {},
   "outputs": [
    {
     "name": "stdout",
     "output_type": "stream",
     "text": [
      "Number of Base Word Directories: 76\n"
     ]
    }
   ],
   "source": [
    "base_path = \"/data/handwriting/words/\"\n",
    "base_words = [\n",
    "    join(base_path, d) for d in listdir(base_path)\n",
    "]\n",
    "print(f\"Number of Base Word Directories: {len(base_words)}\")\n",
    "\n",
    "files = []\n",
    "for bw in base_words:\n",
    "    subdirs = [\n",
    "        join(bw, f) for f in listdir(bw)\n",
    "    ]\n",
    "    for sd in subdirs:\n",
    "        files.extend(\n",
    "            [\n",
    "                join(sd, f) for f in listdir(sd)\n",
    "            ]\n",
    "        )"
   ]
  },
  {
   "cell_type": "code",
   "execution_count": 16,
   "metadata": {},
   "outputs": [],
   "source": [
    "\n",
    "def create_json_data(fpath):\n",
    "    img = cv2.imread(fpath)\n",
    "    h, w, c = img.shape\n",
    "    data = {\n",
    "        \"fpath\": fpath,\n",
    "        \"h\": h,\n",
    "        \"w\": w\n",
    "    }\n",
    "    return data"
   ]
  },
  {
   "cell_type": "code",
   "execution_count": 47,
   "metadata": {},
   "outputs": [],
   "source": [
    "img = cv2.imread(files[0])\n",
    "img = cv2.cvtColor(img, cv2.COLOR_BGR2GRAY)\n",
    "h, w = img.shape"
   ]
  },
  {
   "cell_type": "code",
   "execution_count": 48,
   "metadata": {},
   "outputs": [
    {
     "name": "stdout",
     "output_type": "stream",
     "text": [
      "(121, 396)\n"
     ]
    }
   ],
   "source": [
    "print(img.shape)"
   ]
  },
  {
   "cell_type": "code",
   "execution_count": 49,
   "metadata": {},
   "outputs": [
    {
     "data": {
      "text/plain": [
       "<matplotlib.image.AxesImage at 0x7f8853705e48>"
      ]
     },
     "execution_count": 49,
     "metadata": {},
     "output_type": "execute_result"
    },
    {
     "data": {
      "image/png": "[encoded data removed]",
      "text/plain": [
       "<Figure size 432x288 with 1 Axes>"
      ]
     },
     "metadata": {
      "needs_background": "light"
     },
     "output_type": "display_data"
    }
   ],
   "source": [
    "plt.imshow(img, 'gray')"
   ]
  },
  {
   "cell_type": "code",
   "execution_count": 50,
   "metadata": {},
   "outputs": [],
   "source": [
    "IMG = np.zeros((400, 1000)) + 255"
   ]
  },
  {
   "cell_type": "code",
   "execution_count": 51,
   "metadata": {},
   "outputs": [
    {
     "name": "stdout",
     "output_type": "stream",
     "text": [
      "(400, 1000)\n"
     ]
    }
   ],
   "source": [
    "print(IMG.shape)"
   ]
  },
  {
   "cell_type": "code",
   "execution_count": 72,
   "metadata": {},
   "outputs": [
    {
     "data": {
      "text/plain": [
       "array([[255., 255., 255., ..., 255., 255., 255.],\n",
       "       [255., 255., 255., ..., 255., 255., 255.],\n",
       "       [255., 255., 255., ..., 255., 255., 255.],\n",
       "       ...,\n",
       "       [255., 255., 255., ..., 255., 255., 255.],\n",
       "       [255., 255., 255., ..., 255., 255., 255.],\n",
       "       [255., 255., 255., ..., 255., 255., 255.]])"
      ]
     },
     "execution_count": 72,
     "metadata": {},
     "output_type": "execute_result"
    }
   ],
   "source": [
    "IMG = np.zeros((400, 1000)) + 255\n",
    "\n",
    "offset_h = 100\n",
    "offset_w = 300\n",
    "\n",
    "IMG[offset_h:h+offset_h,offset_w:w+offset_w] = img\n",
    "\n",
    "\"\"\"\n",
    "\n",
    "\"\"\"\n",
    "line_offset = 10\n",
    "pt1 = (offset_w - 20, offset_h + h + line_offset)\n",
    "pt2 = (offset_w + w + 40, offset_h + h + line_offset)\n",
    "color = (0, )\n",
    "cv2.line(\n",
    "    IMG,\n",
    "    pt1,\n",
    "    pt2,\n",
    "    color,\n",
    "    10\n",
    ")\n",
    "\n",
    "font = cv2.FONT_HERSHEY_PLAIN\n",
    "cv2.putText(\n",
    "    IMG,\n",
    "    'Name: ',\n",
    "    (offset_w - 250, offset_h + h), \n",
    "    font, 4,(0,),2,cv2.LINE_AA\n",
    ")\n",
    "\n",
    "\n",
    "qt1 = (0, offset_h//2)\n",
    "qt2 = (1000, offset_h//2)\n",
    "cv2.line(\n",
    "    IMG,\n",
    "    qt1,\n",
    "    qt2,\n",
    "    color,\n",
    "    10\n",
    ")\n",
    "\n",
    "qt1 = (0, offset_h + h + 100)\n",
    "qt2 = (1000, offset_h + h + 100)\n",
    "cv2.line(\n",
    "    IMG,\n",
    "    qt1,\n",
    "    qt2,\n",
    "    color,\n",
    "    10\n",
    ")\n"
   ]
  },
  {
   "cell_type": "code",
   "execution_count": 73,
   "metadata": {},
   "outputs": [
    {
     "data": {
      "text/plain": [
       "<matplotlib.image.AxesImage at 0x7f885348c908>"
      ]
     },
     "execution_count": 73,
     "metadata": {},
     "output_type": "execute_result"
    },
    {
     "data": {
      "image/png": "[encoded data removed]",
      "text/plain": [
       "<Figure size 432x288 with 1 Axes>"
      ]
     },
     "metadata": {
      "needs_background": "light"
     },
     "output_type": "display_data"
    }
   ],
   "source": [
    "plt.imshow(IMG, 'gray')"
   ]
  },
  {
   "cell_type": "code",
   "execution_count": null,
   "metadata": {},
   "outputs": [],
   "source": []
  }
 ],
 "metadata": {
  "kernelspec": {
   "display_name": "Python 3",
   "language": "python",
   "name": "python3"
  },
  "language_info": {
   "codemirror_mode": {
    "name": "ipython",
    "version": 3
   },
   "file_extension": ".py",
   "mimetype": "text/x-python",
   "name": "python",
   "nbconvert_exporter": "python",
   "pygments_lexer": "ipython3",
   "version": "3.7.3"
  }
 },
 "nbformat": 4,
 "nbformat_minor": 4
}
