{
 "cells": [
  {
   "cell_type": "code",
   "execution_count": 1,
   "metadata": {},
   "outputs": [],
   "source": [
    "from image_generation import generate_single_example\n",
    "from utils import return_base_image_paths, generate_categories\n",
    "from pprint import pprint\n",
    "from tqdm import tqdm\n",
    "import psycopg2 as psql"
   ]
  },
  {
   "cell_type": "code",
   "execution_count": 2,
   "metadata": {},
   "outputs": [],
   "source": [
    "try:\n",
    "    conn = psql.connect(\n",
    "        host='localhost',\n",
    "        user='postgres',\n",
    "        password='newpassword',\n",
    "        port=5432,\n",
    "        database='postgres'\n",
    "    )\n",
    "    \n",
    "    c = conn.cursor()\n",
    "finally:\n",
    "    conn.close()"
   ]
  },
  {
   "cell_type": "code",
   "execution_count": 3,
   "metadata": {},
   "outputs": [
    {
     "name": "stdout",
     "output_type": "stream",
     "text": [
      "Number of Base Word Directories: 76\n"
     ]
    }
   ],
   "source": [
    "img_files = return_base_image_paths()\n",
    "TEXT = [\n",
    "    \"Name: \",\n",
    "    \"Address: \",\n",
    "    \"Beneficiary: \",\n",
    "    \"Phone Number: \",\n",
    "    \"Age: \"\n",
    "]"
   ]
  },
  {
   "cell_type": "code",
   "execution_count": 4,
   "metadata": {},
   "outputs": [
    {
     "name": "stdout",
     "output_type": "stream",
     "text": [
      "No Database Connection\n",
      "{'annotations': [{'area': 6981,\n",
      "                  'bbox': (104, 206, 179, 39),\n",
      "                  'category_id': 2,\n",
      "                  'id': 'e0ec057b-dd94-4e20-9b34-cc9d9a588ff0',\n",
      "                  'image_id': '30a66fb8-9cd3-4c46-b4c8-f66a1497906e',\n",
      "                  'iscrowd': 0},\n",
      "                 {'area': 7139,\n",
      "                  'bbox': (434, 188, 121, 59),\n",
      "                  'category_id': 3,\n",
      "                  'id': '9154d7ad-357e-4666-86ff-3aca0fe2a5af',\n",
      "                  'image_id': '30a66fb8-9cd3-4c46-b4c8-f66a1497906e',\n",
      "                  'iscrowd': 0},\n",
      "                 {'area': 1316,\n",
      "                  'bbox': (330, 244, 188, 7),\n",
      "                  'category_id': 1,\n",
      "                  'id': 'ebf84424-d6d4-4bc1-bbf0-26eca2d64313',\n",
      "                  'image_id': '30a66fb8-9cd3-4c46-b4c8-f66a1497906e',\n",
      "                  'iscrowd': 0}],\n",
      " 'image': {'filename': '30a66fb8-9cd3-4c46-b4c8-f66a1497906e.png',\n",
      "           'height': 400,\n",
      "           'id': '30a66fb8-9cd3-4c46-b4c8-f66a1497906e',\n",
      "           'license': 1,\n",
      "           'width': 1000}}\n"
     ]
    }
   ],
   "source": [
    "data = generate_single_example(\n",
    "    TEXT,\n",
    "    img_files,\n",
    "    \"write_test\",\n",
    "    print_img=True\n",
    ")\n",
    "\n",
    "pprint(data)"
   ]
  },
  {
   "cell_type": "code",
   "execution_count": 5,
   "metadata": {},
   "outputs": [
    {
     "name": "stderr",
     "output_type": "stream",
     "text": [
      "100%|██████████| 500/500 [00:09<00:00, 53.88it/s]\n"
     ]
    }
   ],
   "source": [
    "DATA = []\n",
    "\n",
    "try:\n",
    "    conn = psql.connect(\n",
    "        host='localhost',\n",
    "        user='postgres',\n",
    "        password='newpassword',\n",
    "        port=5432,\n",
    "        database='postgres'\n",
    "    )\n",
    "    \n",
    "    for _ in tqdm(range(500)):\n",
    "        Data = generate_single_example(\n",
    "            TEXT,\n",
    "            img_files,\n",
    "            \"write_test\",\n",
    "            print_img=True,\n",
    "            db_conn=conn\n",
    "        )\n",
    "        DATA.append(Data)\n",
    "finally:\n",
    "    conn.close()"
   ]
  },
  {
   "cell_type": "code",
   "execution_count": 6,
   "metadata": {},
   "outputs": [],
   "source": [
    "annotations = []\n",
    "images = []\n",
    "\n",
    "for d in DATA:\n",
    "    annotations.extend(d['annotations'])\n",
    "    images.append(d['image'])"
   ]
  },
  {
   "cell_type": "code",
   "execution_count": 7,
   "metadata": {},
   "outputs": [],
   "source": [
    "JSON_DATA = {\n",
    "    \"annotations\": annotations,\n",
    "    \"images\": images,\n",
    "    \"categories\": generate_categories(),\n",
    "    \"info\": {},\n",
    "    \"licenses\": {}\n",
    "}"
   ]
  },
  {
   "cell_type": "code",
   "execution_count": 8,
   "metadata": {},
   "outputs": [],
   "source": [
    "def send_file_query(cur,\n",
    "                    conn,\n",
    "                    fpath: str,\n",
    "                    height: int,\n",
    "                    width: int,\n",
    "                    file_encoding: str='png',\n",
    "                    ):\n",
    "    \"\"\"\n",
    "    \n",
    "    \"\"\"\n",
    "    query = f\"\"\"\n",
    "    INSERT INTO handwriting_files (fpath, height, width, file_encoding)\n",
    "    VALUES \n",
    "    (\n",
    "        {fpath},\n",
    "        {height},\n",
    "        {width},\n",
    "        {file_encoding}\n",
    "    );\n",
    "    \"\"\"\n",
    "    success = True\n",
    "    try:\n",
    "        cur.execute(query)\n",
    "    except Exception as e:\n",
    "        print(f\"Exception: {e}\")\n",
    "        success = False\n",
    "    finally:\n",
    "        conn.commit()\n",
    "    return success"
   ]
  },
  {
   "cell_type": "code",
   "execution_count": 9,
   "metadata": {},
   "outputs": [],
   "source": [
    "def send_bbox_query():\n",
    "    \"\"\"\n",
    "    \n",
    "    \"\"\"\n",
    "    query = f\"\"\"\n",
    "    INSERT INTO handwriting_bboxes (class_text, class_id, x, y, w, h, ref_image, text)\n",
    "    VALUES\n",
    "    (\n",
    "        {class_text},\n",
    "        {class_id},\n",
    "        {x},\n",
    "        {y},\n",
    "        {w},\n",
    "        {h},\n",
    "        {ref_image},\n",
    "        {text}\n",
    "    );\n",
    "    \"\"\"\n",
    "    success = True\n",
    "    try:\n",
    "        cur.execute(query)\n",
    "    except Exception as e:\n",
    "        print(f\"Exception: {e}\")\n",
    "        success = False\n",
    "    finally:\n",
    "        conn.commit()\n",
    "    return success"
   ]
  },
  {
   "cell_type": "code",
   "execution_count": null,
   "metadata": {},
   "outputs": [],
   "source": []
  }
 ],
 "metadata": {
  "kernelspec": {
   "display_name": "Python 3",
   "language": "python",
   "name": "python3"
  },
  "language_info": {
   "codemirror_mode": {
    "name": "ipython",
    "version": 3
   },
   "file_extension": ".py",
   "mimetype": "text/x-python",
   "name": "python",
   "nbconvert_exporter": "python",
   "pygments_lexer": "ipython3",
   "version": "3.7.3"
  }
 },
 "nbformat": 4,
 "nbformat_minor": 4
}
