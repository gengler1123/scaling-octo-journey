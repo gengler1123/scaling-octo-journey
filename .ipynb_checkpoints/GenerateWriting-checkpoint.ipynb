{
 "cells": [
  {
   "cell_type": "code",
   "execution_count": 57,
   "metadata": {},
   "outputs": [],
   "source": [
    "from os import listdir\n",
    "from os.path import isfile, isdir, join\n",
    "import cv2\n",
    "import matplotlib.pyplot as plt\n",
    "import numpy as np\n",
    "from random import randint, choice\n",
    "from uuid import uuid4"
   ]
  },
  {
   "cell_type": "code",
   "execution_count": 15,
   "metadata": {},
   "outputs": [
    {
     "name": "stdout",
     "output_type": "stream",
     "text": [
      "Number of Base Word Directories: 76\n"
     ]
    }
   ],
   "source": [
    "base_path = \"/data/handwriting/words/\"\n",
    "base_words = [\n",
    "    join(base_path, d) for d in listdir(base_path)\n",
    "]\n",
    "print(f\"Number of Base Word Directories: {len(base_words)}\")\n",
    "\n",
    "files = []\n",
    "for bw in base_words:\n",
    "    subdirs = [\n",
    "        join(bw, f) for f in listdir(bw)\n",
    "    ]\n",
    "    for sd in subdirs:\n",
    "        files.extend(\n",
    "            [\n",
    "                join(sd, f) for f in listdir(sd)\n",
    "            ]\n",
    "        )"
   ]
  },
  {
   "cell_type": "code",
   "execution_count": 4,
   "metadata": {},
   "outputs": [],
   "source": [
    "TYPED_TEXT = [\n",
    "    \"Name: \",\n",
    "    \"Address: \",\n",
    "    \"Beneficiary: \",\n",
    "    \"Phone Number: \",\n",
    "    \"Age: \"\n",
    "]"
   ]
  },
  {
   "cell_type": "code",
   "execution_count": 3,
   "metadata": {},
   "outputs": [],
   "source": [
    "def create_json_data(fpath):\n",
    "    img = cv2.imread(fpath)\n",
    "    h, w, c = img.shape\n",
    "    data = {\n",
    "        \"fpath\": fpath,\n",
    "        \"h\": h,\n",
    "        \"w\": w\n",
    "    }\n",
    "    return data"
   ]
  },
  {
   "cell_type": "code",
   "execution_count": 4,
   "metadata": {},
   "outputs": [],
   "source": [
    "img = cv2.imread(files[0])\n",
    "img = cv2.cvtColor(img, cv2.COLOR_BGR2GRAY)\n",
    "h, w = img.shape"
   ]
  },
  {
   "cell_type": "code",
   "execution_count": 5,
   "metadata": {},
   "outputs": [
    {
     "name": "stdout",
     "output_type": "stream",
     "text": [
      "(121, 396)\n"
     ]
    }
   ],
   "source": [
    "print(img.shape)"
   ]
  },
  {
   "cell_type": "code",
   "execution_count": 6,
   "metadata": {},
   "outputs": [
    {
     "data": {
      "text/plain": [
       "<matplotlib.image.AxesImage at 0x7ffae4b894e0>"
      ]
     },
     "execution_count": 6,
     "metadata": {},
     "output_type": "execute_result"
    },
    {
     "data": {
      "image/png": "[encoded data removed]",
      "text/plain": [
       "<Figure size 432x288 with 1 Axes>"
      ]
     },
     "metadata": {
      "needs_background": "light"
     },
     "output_type": "display_data"
    }
   ],
   "source": [
    "plt.imshow(img, 'gray')"
   ]
  },
  {
   "cell_type": "code",
   "execution_count": 7,
   "metadata": {},
   "outputs": [],
   "source": [
    "IMG = np.zeros((400, 1000)) + 255"
   ]
  },
  {
   "cell_type": "code",
   "execution_count": 8,
   "metadata": {},
   "outputs": [
    {
     "name": "stdout",
     "output_type": "stream",
     "text": [
      "(400, 1000)\n"
     ]
    }
   ],
   "source": [
    "print(IMG.shape)"
   ]
  },
  {
   "cell_type": "code",
   "execution_count": 51,
   "metadata": {},
   "outputs": [],
   "source": [
    "def createBoundingBoxes(mask):\n",
    "    \"\"\"\n",
    "    \n",
    "    \"\"\"\n",
    "    \n",
    "    HMASK = mask.astype(np.uint8)\n",
    "\n",
    "    HMASK = 255 - HMASK\n",
    "\n",
    "    contours, hierarchy = cv2.findContours(\n",
    "        HMASK,\n",
    "        cv2.RETR_CCOMP,\n",
    "        cv2.CHAIN_APPROX_SIMPLE\n",
    "    )\n",
    "    X = []\n",
    "    Y = []\n",
    "    R = []\n",
    "    B = []\n",
    "    for cnt in contours:\n",
    "        approx = cv2.approxPolyDP(cnt,1, True)\n",
    "\n",
    "        x, y, w, h = cv2.boundingRect(approx)\n",
    "\n",
    "        bot = y+h\n",
    "        right = x+w\n",
    "\n",
    "        X.append(x)\n",
    "        Y.append(y)\n",
    "        R.append(right)\n",
    "        B.append(bot)\n",
    "\n",
    "    x = np.min(X)\n",
    "    y = np.min(Y)\n",
    "    r = np.max(R)\n",
    "    b = np.max(B)\n",
    "    w = r - x\n",
    "    h = b - y\n",
    "    \n",
    "    return x, y, w , h"
   ]
  },
  {
   "cell_type": "code",
   "execution_count": null,
   "metadata": {},
   "outputs": [],
   "source": [
    "def generate_categories():\n",
    "    \"\"\"\n",
    "    \n",
    "    \"\"\"\n",
    "    data = [\n",
    "        {\n",
    "            \"supercategory\": \"form_object\",\n",
    "            \"id\": 1,\n",
    "            \"name\": \"horizontal_line\"\n",
    "        },\n",
    "        {\n",
    "            \"supercategory\": \"text\",\n",
    "            \"id\": 2,\n",
    "            \"name\": \"type_text\"\n",
    "        },\n",
    "        {\n",
    "            \"supercategory\": \"text\",\n",
    "            \"id\": 3,\n",
    "            \"name\": \"handwriting\"\n",
    "        }\n",
    "    ]\n",
    "    return data\n",
    "\n",
    "\n",
    "\n",
    "def generate_annotation():\n",
    "    \"\"\"\n",
    "    \n",
    "    \"\"\""
   ]
  },
  {
   "cell_type": "markdown",
   "metadata": {},
   "source": [
    "# Generate Training Images"
   ]
  },
  {
   "cell_type": "code",
   "execution_count": 60,
   "metadata": {},
   "outputs": [],
   "source": [
    "\n",
    "def generate_basic_training_sample(write_path: str,\n",
    "                                   *args, **kwargs):\n",
    "    \"\"\"\n",
    "    \n",
    "    \n",
    "    \"\"\"\n",
    "    ident = f\"{uuid4().hex}\"\n",
    "    BASE_IMG = np.zeros((400, 1000)) + 255\n",
    "\n",
    "    \"\"\"\n",
    "\n",
    "    Determine Location for Base Text\n",
    "\n",
    "    \"\"\"\n",
    "\n",
    "    text = choice(TYPED_TEXT)\n",
    "    font = cv2.FONT_HERSHEY_PLAIN\n",
    "    font_scale = 4\n",
    "    font_thickness = 2\n",
    "    (label_width, label_height), baseline = cv2.getTextSize(\n",
    "        text,\n",
    "        font,\n",
    "        font_scale,\n",
    "        font_thickness\n",
    "    )\n",
    "\n",
    "    leftMargin = randint(50, 150)\n",
    "    topOffset  = randint(label_height + 70, label_height + 250)\n",
    "\n",
    "    TEXT_MASK = BASE_IMG.copy()\n",
    "\n",
    "    TEXT_MASK = cv2.putText(\n",
    "        TEXT_MASK,\n",
    "        text,\n",
    "        (leftMargin, topOffset),\n",
    "        font, \n",
    "        font_scale,\n",
    "        (0,),\n",
    "        font_thickness,\n",
    "        cv2.LINE_AA\n",
    "    )\n",
    "\n",
    "    \"\"\"\n",
    "\n",
    "    Handwriting\n",
    "\n",
    "    \"\"\"\n",
    "    img_file = choice(files)\n",
    "    img = cv2.imread(img_file)\n",
    "    img = cv2.cvtColor(img, cv2.COLOR_BGR2GRAY)\n",
    "    h, w = img.shape\n",
    "    while w < 50:\n",
    "        img_file = choice(files)\n",
    "        img = cv2.imread(img_file)\n",
    "        img = cv2.cvtColor(img, cv2.COLOR_BGR2GRAY)\n",
    "        h, w = img.shape\n",
    "\n",
    "    WRITING_MASK = BASE_IMG.copy()\n",
    "\n",
    "    writingOffset = leftMargin+label_width+randint(10, 120)\n",
    "\n",
    "    randomYOffset = randint(-20, 30)\n",
    "\n",
    "    WRITING_MASK[\n",
    "        topOffset-h+randomYOffset:topOffset+randomYOffset,\n",
    "        writingOffset:writingOffset+w\n",
    "    ] = img\n",
    "\n",
    "\n",
    "    \"\"\"\n",
    "\n",
    "    FORM LINES\n",
    "\n",
    "    \"\"\"\n",
    "\n",
    "    LINE_MASK_0 = BASE_IMG.copy()\n",
    "\n",
    "    entryLineOffset = leftMargin + label_width + 10\n",
    "\n",
    "    qt1 = (entryLineOffset, topOffset)\n",
    "    qt2 = (entryLineOffset + w + 60, topOffset)\n",
    "    cv2.line(\n",
    "        LINE_MASK_0,\n",
    "        qt1,\n",
    "        qt2,\n",
    "        (0,),\n",
    "        5\n",
    "    )\n",
    "    \n",
    "    TEXT_BBOX = createBoundingBoxes(TEXT_MASK)\n",
    "    WRITING_BBOX = createBoundingBoxes(WRITING_MASK)\n",
    "    LINE_BBOX = createBoundingBoxes(LINE_MASK_0)\n",
    "    \n",
    "    def format_annotation(BBOX, idx, image_id, cat_id):\n",
    "        \"\"\"\n",
    "        \n",
    "        \"\"\"\n",
    "        x, y, w, h = BBOX\n",
    "        area = w * h\n",
    "        iscrowd = 0\n",
    "        category_id = cat_id\n",
    "        ident = idx\n",
    "        \n",
    "        data = {\n",
    "            \"area\": area,\n",
    "            \"iscrowd\": iscrowd,\n",
    "            \"image_id\": image_id,\n",
    "            \"bbox\": BBOX,\n",
    "            \"category_id\": cat_id,\n",
    "            \"id\": idx\n",
    "        }\n",
    "        return data\n",
    "    \n",
    "    def generate_image_section():\n",
    "        \"\"\"\n",
    "        \n",
    "        \"\"\"\n",
    "        filename = filename\n",
    "        license = 1\n",
    "        height = h\n",
    "        width = w\n",
    "        id = f\"{uuid4().hex}\"\n",
    "    \n",
    "    annotations = [\n",
    "        \n",
    "    ]"
   ]
  },
  {
   "cell_type": "code",
   "execution_count": 61,
   "metadata": {},
   "outputs": [],
   "source": [
    "write_path = \"/data/word_detection\"\n",
    "\n",
    "generate_basic_training_sample(write_path)\n",
    "\n"
   ]
  },
  {
   "cell_type": "code",
   "execution_count": 44,
   "metadata": {},
   "outputs": [],
   "source": []
  },
  {
   "cell_type": "code",
   "execution_count": 67,
   "metadata": {},
   "outputs": [
    {
     "name": "stdout",
     "output_type": "stream",
     "text": [
      "\n",
      "    X: [0]\n",
      "    Y: [316]\n",
      "    R: [1000]\n",
      "    B: [327]\n",
      "    \n",
      "\n",
      "    X: [229, 231, 229, 231, 189, 192, 133, 97, 99, 57]\n",
      "    Y: [212, 215, 192, 195, 192, 194, 192, 192, 202, 180]\n",
      "    R: [236, 234, 236, 234, 216, 213, 176, 120, 118, 84]\n",
      "    B: [219, 216, 199, 196, 219, 205, 219, 219, 217, 219]\n",
      "    \n"
     ]
    },
    {
     "data": {
      "text/plain": [
       "(57, 180, 179, 39)"
      ]
     },
     "execution_count": 67,
     "metadata": {},
     "output_type": "execute_result"
    },
    {
     "data": {
      "image/png": "[encoded data removed]",
      "text/plain": [
       "<Figure size 432x288 with 1 Axes>"
      ]
     },
     "metadata": {
      "needs_background": "light"
     },
     "output_type": "display_data"
    }
   ],
   "source": [
    "createBoundingBoxes(L_MASK_2)\n",
    "createBoundingBoxes(T_MASK)"
   ]
  },
  {
   "cell_type": "code",
   "execution_count": 30,
   "metadata": {},
   "outputs": [
    {
     "data": {
      "text/plain": [
       "<matplotlib.image.AxesImage at 0x7ffae2ed6668>"
      ]
     },
     "execution_count": 30,
     "metadata": {},
     "output_type": "execute_result"
    },
    {
     "data": {
      "image/png": "[encoded data removed]",
      "text/plain": [
       "<Figure size 432x288 with 1 Axes>"
      ]
     },
     "metadata": {
      "needs_background": "light"
     },
     "output_type": "display_data"
    }
   ],
   "source": [
    "plt.imshow(final_img, 'gray')"
   ]
  },
  {
   "cell_type": "code",
   "execution_count": 58,
   "metadata": {},
   "outputs": [
    {
     "name": "stdout",
     "output_type": "stream",
     "text": [
      "\n",
      "X: [540, 300, 581, 459]\n",
      "Y: [119, 118, 108, 100]\n",
      "R: [575, 566, 696, 477]\n",
      "B: [130, 221, 209, 109]\n",
      "\n"
     ]
    },
    {
     "data": {
      "text/plain": [
       "<matplotlib.image.AxesImage at 0x7ffae046d860>"
      ]
     },
     "execution_count": 58,
     "metadata": {},
     "output_type": "execute_result"
    },
    {
     "data": {
      "image/png": "[encoded data removed]",
      "text/plain": [
       "<Figure size 432x288 with 1 Axes>"
      ]
     },
     "metadata": {
      "needs_background": "light"
     },
     "output_type": "display_data"
    }
   ],
   "source": [
    "HMASK = H_MASK.astype(np.uint8)\n",
    "\n",
    "HMASK = 255 - HMASK\n",
    "\n",
    "contours, hierarchy = cv2.findContours(\n",
    "    HMASK,\n",
    "    cv2.RETR_CCOMP,\n",
    "    cv2.CHAIN_APPROX_SIMPLE\n",
    ")\n",
    "\n",
    "DRAW_IMG = H_MASK.copy()\n",
    "\n",
    "X = []\n",
    "Y = []\n",
    "R = []\n",
    "B = []\n",
    "\n",
    "for cnt in contours:\n",
    "    approx = cv2.approxPolyDP(cnt,1, True)\n",
    "\n",
    "    x, y, w, h = cv2.boundingRect(approx)\n",
    "    \n",
    "    bot = y+h\n",
    "    right = x+w\n",
    "    \n",
    "    X.append(x)\n",
    "    Y.append(y)\n",
    "    R.append(right)\n",
    "    B.append(bot)\n",
    "\n",
    "\n",
    "x = np.min(X)\n",
    "y = np.min(Y)\n",
    "r = np.max(R)\n",
    "b = np.max(B)\n",
    "\n",
    "print(f\"\"\"\n",
    "X: {X}\n",
    "Y: {Y}\n",
    "R: {R}\n",
    "B: {B}\n",
    "\"\"\")\n",
    "\n",
    "cv2.rectangle(\n",
    "    DRAW_IMG,\n",
    "    (x,y),\n",
    "    (r,b),\n",
    "    (125,),\n",
    "    (10)\n",
    ")\n",
    "    \n",
    "plt.imshow(DRAW_IMG)"
   ]
  },
  {
   "cell_type": "code",
   "execution_count": 21,
   "metadata": {},
   "outputs": [
    {
     "name": "stdout",
     "output_type": "stream",
     "text": [
      "[[ True  True  True ...  True  True  True]\n",
      " [ True  True  True ...  True  True  True]\n",
      " [ True  True  True ...  True  True  True]\n",
      " ...\n",
      " [ True  True  True ...  True  True  True]\n",
      " [ True  True  True ...  True  True  True]\n",
      " [ True  True  True ...  True  True  True]]\n"
     ]
    }
   ],
   "source": [
    "print(H_MASK.astype(np.bool))"
   ]
  },
  {
   "cell_type": "code",
   "execution_count": null,
   "metadata": {},
   "outputs": [],
   "source": []
  }
 ],
 "metadata": {
  "kernelspec": {
   "display_name": "Python 3",
   "language": "python",
   "name": "python3"
  },
  "language_info": {
   "codemirror_mode": {
    "name": "ipython",
    "version": 3
   },
   "file_extension": ".py",
   "mimetype": "text/x-python",
   "name": "python",
   "nbconvert_exporter": "python",
   "pygments_lexer": "ipython3",
   "version": "3.7.3"
  }
 },
 "nbformat": 4,
 "nbformat_minor": 4
}
